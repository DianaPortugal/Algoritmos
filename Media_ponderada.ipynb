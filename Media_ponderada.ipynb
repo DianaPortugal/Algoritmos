{
  "nbformat": 4,
  "nbformat_minor": 0,
  "metadata": {
    "colab": {
      "provenance": [],
      "authorship_tag": "ABX9TyPwzTYMn6INErv+4iv2RBd5",
      "include_colab_link": true
    },
    "kernelspec": {
      "name": "python3",
      "display_name": "Python 3"
    },
    "language_info": {
      "name": "python"
    }
  },
  "cells": [
    {
      "cell_type": "markdown",
      "metadata": {
        "id": "view-in-github",
        "colab_type": "text"
      },
      "source": [
        "<a href=\"https://colab.research.google.com/github/DianaPortugal/Algoritmos/blob/main/Media_ponderada.ipynb\" target=\"_parent\"><img src=\"https://colab.research.google.com/assets/colab-badge.svg\" alt=\"Open In Colab\"/></a>"
      ]
    },
    {
      "cell_type": "code",
      "execution_count": null,
      "metadata": {
        "id": "D5YWbhuguIQd"
      },
      "outputs": [],
      "source": [
        "# Autor: Diana Veronica Portugal Churata\n",
        "def media_ponderada(n1,n2,n3,n4):\n",
        "  return ((n1+n2+n3*3+n4*5)/10)"
      ]
    },
    {
      "cell_type": "code",
      "source": [
        "media_ponderada(3,8,4,10)"
      ],
      "metadata": {
        "colab": {
          "base_uri": "https://localhost:8080/"
        },
        "id": "ez63zQNYxGvD",
        "outputId": "404fc78b-2594-4c70-f736-38e40d8a21b3"
      },
      "execution_count": null,
      "outputs": [
        {
          "output_type": "execute_result",
          "data": {
            "text/plain": [
              "7.3"
            ]
          },
          "metadata": {},
          "execution_count": 2
        }
      ]
    },
    {
      "cell_type": "code",
      "source": [
        "media_ponderada(2,7,1,6)"
      ],
      "metadata": {
        "colab": {
          "base_uri": "https://localhost:8080/"
        },
        "id": "Cp9IdxRxBK5R",
        "outputId": "457f0773-a76d-4fb0-b0dc-d55ae3eb545d"
      },
      "execution_count": null,
      "outputs": [
        {
          "output_type": "execute_result",
          "data": {
            "text/plain": [
              "4.2"
            ]
          },
          "metadata": {},
          "execution_count": 3
        }
      ]
    },
    {
      "cell_type": "code",
      "source": [
        "media_ponderada(7,6,8,9)"
      ],
      "metadata": {
        "id": "ZD-WNu2SV0Dd",
        "colab": {
          "base_uri": "https://localhost:8080/"
        },
        "outputId": "7b501b3f-7a9b-4b58-c572-c070a66a4ec2"
      },
      "execution_count": null,
      "outputs": [
        {
          "output_type": "execute_result",
          "data": {
            "text/plain": [
              "8.2"
            ]
          },
          "metadata": {},
          "execution_count": 4
        }
      ]
    }
  ]
}