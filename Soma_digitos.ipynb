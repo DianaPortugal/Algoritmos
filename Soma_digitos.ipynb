{
  "nbformat": 4,
  "nbformat_minor": 0,
  "metadata": {
    "colab": {
      "provenance": [],
      "authorship_tag": "ABX9TyNWJ7C4dtlcGT7Xq66z+WmU",
      "include_colab_link": true
    },
    "kernelspec": {
      "name": "python3",
      "display_name": "Python 3"
    },
    "language_info": {
      "name": "python"
    }
  },
  "cells": [
    {
      "cell_type": "markdown",
      "metadata": {
        "id": "view-in-github",
        "colab_type": "text"
      },
      "source": [
        "<a href=\"https://colab.research.google.com/github/DianaPortugal/Algoritmos/blob/main/Soma_digitos.ipynb\" target=\"_parent\"><img src=\"https://colab.research.google.com/assets/colab-badge.svg\" alt=\"Open In Colab\"/></a>"
      ]
    },
    {
      "cell_type": "code",
      "execution_count": null,
      "metadata": {
        "id": "MlNPDSGI_x3p"
      },
      "outputs": [],
      "source": [
        "# Autor: Diana Veronica Portugal Churata\n",
        "def soma_digitos(n):\n",
        "  suma=0\n",
        "  while n > 0:\n",
        "    suma=suma+(n%10)\n",
        "    n = n // 10\n",
        "  print(suma)"
      ]
    },
    {
      "cell_type": "code",
      "source": [
        "soma_digitos(11)"
      ],
      "metadata": {
        "colab": {
          "base_uri": "https://localhost:8080/"
        },
        "id": "sy5ec2cJtvC0",
        "outputId": "ae81f095-5cbf-4619-b8fb-c217ccacf0e3"
      },
      "execution_count": null,
      "outputs": [
        {
          "output_type": "stream",
          "name": "stdout",
          "text": [
            "2\n"
          ]
        }
      ]
    },
    {
      "cell_type": "code",
      "source": [
        "soma_digitos(19234)"
      ],
      "metadata": {
        "id": "3rCFYwtLtzFk"
      },
      "execution_count": null,
      "outputs": []
    },
    {
      "cell_type": "code",
      "source": [
        "soma_digitos(645)"
      ],
      "metadata": {
        "colab": {
          "base_uri": "https://localhost:8080/"
        },
        "id": "0IsM16IqtzMC",
        "outputId": "0e91c51a-7dfa-47ba-f489-d02fcf9fa609"
      },
      "execution_count": null,
      "outputs": [
        {
          "output_type": "stream",
          "name": "stdout",
          "text": [
            "15\n"
          ]
        }
      ]
    }
  ]
}