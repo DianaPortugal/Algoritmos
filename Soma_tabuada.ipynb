{
  "cells": [
    {
      "cell_type": "markdown",
      "metadata": {
        "id": "view-in-github",
        "colab_type": "text"
      },
      "source": [
        "<a href=\"https://colab.research.google.com/github/DianaPortugal/Algoritmos/blob/main/Soma_tabuada.ipynb\" target=\"_parent\"><img src=\"https://colab.research.google.com/assets/colab-badge.svg\" alt=\"Open In Colab\"/></a>"
      ]
    },
    {
      "cell_type": "code",
      "execution_count": null,
      "metadata": {
        "id": "ZvNPp5hK2p-B"
      },
      "outputs": [],
      "source": [
        "# Autor: Diana Veronica Portugal Churata\n",
        "def soma_tabuada(n):\n",
        "  suma=0\n",
        "  for i in range(1,11):\n",
        "    suma=suma+n*i\n",
        "  print(suma)"
      ]
    },
    {
      "cell_type": "code",
      "execution_count": null,
      "metadata": {
        "colab": {
          "base_uri": "https://localhost:8080/"
        },
        "id": "tL7r-pyD3uBt",
        "outputId": "48f97307-1382-4f94-8830-feef12e9f778"
      },
      "outputs": [
        {
          "output_type": "stream",
          "name": "stdout",
          "text": [
            "440\n"
          ]
        }
      ],
      "source": [
        "soma_tabuada(8)"
      ]
    },
    {
      "cell_type": "code",
      "execution_count": null,
      "metadata": {
        "colab": {
          "base_uri": "https://localhost:8080/"
        },
        "id": "ouHQ9_hP9vkJ",
        "outputId": "dfc1d1d3-5a7d-4fdf-a6fb-aadfc6dcdabb"
      },
      "outputs": [
        {
          "output_type": "stream",
          "name": "stdout",
          "text": [
            "550\n"
          ]
        }
      ],
      "source": [
        "soma_tabuada(10)"
      ]
    },
    {
      "cell_type": "code",
      "execution_count": null,
      "metadata": {
        "colab": {
          "base_uri": "https://localhost:8080/"
        },
        "id": "tGu_-Y-B90zL",
        "outputId": "ce0db8dd-4c6c-40b3-857f-5f0cc07b6674"
      },
      "outputs": [
        {
          "output_type": "stream",
          "name": "stdout",
          "text": [
            "110\n"
          ]
        }
      ],
      "source": [
        "soma_tabuada(2)"
      ]
    }
  ],
  "metadata": {
    "colab": {
      "provenance": [],
      "authorship_tag": "ABX9TyOqLuy9+ru3z9+SJgOmoMxP",
      "include_colab_link": true
    },
    "kernelspec": {
      "display_name": "Python 3",
      "name": "python3"
    },
    "language_info": {
      "name": "python"
    }
  },
  "nbformat": 4,
  "nbformat_minor": 0
}