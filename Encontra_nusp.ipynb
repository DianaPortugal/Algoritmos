{
  "nbformat": 4,
  "nbformat_minor": 0,
  "metadata": {
    "colab": {
      "provenance": [],
      "authorship_tag": "ABX9TyOP5QkVyVlM++q2vSi6QYWd",
      "include_colab_link": true
    },
    "kernelspec": {
      "name": "python3",
      "display_name": "Python 3"
    },
    "language_info": {
      "name": "python"
    }
  },
  "cells": [
    {
      "cell_type": "markdown",
      "metadata": {
        "id": "view-in-github",
        "colab_type": "text"
      },
      "source": [
        "<a href=\"https://colab.research.google.com/github/DianaPortugal/Algoritmos/blob/main/Encontra_nusp.ipynb\" target=\"_parent\"><img src=\"https://colab.research.google.com/assets/colab-badge.svg\" alt=\"Open In Colab\"/></a>"
      ]
    },
    {
      "cell_type": "code",
      "execution_count": 1,
      "metadata": {
        "id": "3CmJMHc2YREA"
      },
      "outputs": [],
      "source": [
        "# Autor: Diana Veronica Portugal Churata\n",
        "def encontra_nusp(seu_nusp,lista_nusp):\n",
        "  for i in range(len(lista_nusp)):\n",
        "    if lista_nusp[i]==seu_nusp:\n",
        "      return 'sim'\n",
        "  return 'nao'\n",
        "  #analiza el codigo de forma diferente  en cada caso\n",
        "  # if\n",
        "  # x = 34\n",
        "  # y = 45\n",
        "  #"
      ]
    },
    {
      "cell_type": "code",
      "source": [
        "lista_nusp = [91235, 46782, 12345, 42149, 794, 18362, 82016, 11, 5932, 1818, 91375, 246, 1920, 1820, 29, 4823, 2540, 18, 28342, 81230, 92304, 9213, 289, 23819, 98233]\n",
        "encontra_nusp(12345,lista_nusp)"
      ],
      "metadata": {
        "colab": {
          "base_uri": "https://localhost:8080/",
          "height": 35
        },
        "id": "yV660Ag7cB_F",
        "outputId": "2045c4c5-63c1-4859-eaa8-94150468236d"
      },
      "execution_count": 2,
      "outputs": [
        {
          "output_type": "execute_result",
          "data": {
            "text/plain": [
              "'sim'"
            ],
            "application/vnd.google.colaboratory.intrinsic+json": {
              "type": "string"
            }
          },
          "metadata": {},
          "execution_count": 2
        }
      ]
    },
    {
      "cell_type": "code",
      "source": [
        "lista_nusp = [91235, 46782, 12345, 42149, 794, 18362, 82016, 11, 5932, 1818, 91375, 246, 1920, 1820, 29, 4823, 2540, 18, 28342, 81230, 92304, 9213, 289, 23819, 98233]\n",
        "encontra_nusp(28,lista_nusp)"
      ],
      "metadata": {
        "colab": {
          "base_uri": "https://localhost:8080/",
          "height": 35
        },
        "id": "CFkt_Z8scVSU",
        "outputId": "e714d2d3-019e-4e83-e642-da35435a6db2"
      },
      "execution_count": 3,
      "outputs": [
        {
          "output_type": "execute_result",
          "data": {
            "text/plain": [
              "'nao'"
            ],
            "application/vnd.google.colaboratory.intrinsic+json": {
              "type": "string"
            }
          },
          "metadata": {},
          "execution_count": 3
        }
      ]
    },
    {
      "cell_type": "code",
      "source": [
        "lista_nusp = [91235, 46782, 12345, 42149, 794, 18362, 82016, 11, 5932, 1818, 91375, 246, 1920, 1820, 29, 4823, 2540, 18, 28342, 81230, 92304, 9213, 289, 23819, 98233]\n",
        "encontra_nusp(82016,lista_nusp)"
      ],
      "metadata": {
        "colab": {
          "base_uri": "https://localhost:8080/",
          "height": 35
        },
        "id": "6w-I2iN5cXnl",
        "outputId": "ed5fa830-00be-40de-d077-b411df68fc9b"
      },
      "execution_count": 4,
      "outputs": [
        {
          "output_type": "execute_result",
          "data": {
            "text/plain": [
              "'sim'"
            ],
            "application/vnd.google.colaboratory.intrinsic+json": {
              "type": "string"
            }
          },
          "metadata": {},
          "execution_count": 4
        }
      ]
    },
    {
      "cell_type": "code",
      "source": [],
      "metadata": {
        "id": "zJ6D1OEUB4ei"
      },
      "execution_count": null,
      "outputs": []
    }
  ]
}