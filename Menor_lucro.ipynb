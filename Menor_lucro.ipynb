{
  "nbformat": 4,
  "nbformat_minor": 0,
  "metadata": {
    "colab": {
      "provenance": [],
      "authorship_tag": "ABX9TyPQdi7X82aQVVCbE/cRg6Ev",
      "include_colab_link": true
    },
    "kernelspec": {
      "name": "python3",
      "display_name": "Python 3"
    },
    "language_info": {
      "name": "python"
    }
  },
  "cells": [
    {
      "cell_type": "markdown",
      "metadata": {
        "id": "view-in-github",
        "colab_type": "text"
      },
      "source": [
        "<a href=\"https://colab.research.google.com/github/DianaPortugal/Algoritmos/blob/main/Menor_lucro.ipynb\" target=\"_parent\"><img src=\"https://colab.research.google.com/assets/colab-badge.svg\" alt=\"Open In Colab\"/></a>"
      ]
    },
    {
      "cell_type": "code",
      "execution_count": null,
      "metadata": {
        "id": "lpxvincZeaHX"
      },
      "outputs": [],
      "source": [
        "# Autor: Diana Veronica Portugal Churata\n",
        "def menor_lucro(lista_lucros):\n",
        "  menor = lista_lucros[0]\n",
        "  for i in range(1,len(lista_lucros)):\n",
        "    if menor > lista_lucros[i]:\n",
        "      menor = lista_lucros[i]\n",
        "  return menor"
      ]
    },
    {
      "cell_type": "code",
      "source": [
        "menor_lucro([5000,4500,9700,10920,3200])"
      ],
      "metadata": {
        "colab": {
          "base_uri": "https://localhost:8080/"
        },
        "id": "Lb4S4YOzkbD6",
        "outputId": "ee4469dd-b03c-4160-d72b-5e35342d6f7e"
      },
      "execution_count": null,
      "outputs": [
        {
          "output_type": "execute_result",
          "data": {
            "text/plain": [
              "3200"
            ]
          },
          "metadata": {},
          "execution_count": 8
        }
      ]
    },
    {
      "cell_type": "code",
      "source": [
        "menor_lucro([7500,1300,37000,2200,3100,5000,10500,30900])"
      ],
      "metadata": {
        "colab": {
          "base_uri": "https://localhost:8080/"
        },
        "id": "cNtWgvobkzFT",
        "outputId": "c555a0db-5368-40e0-fea9-0c8b53dfeabc"
      },
      "execution_count": null,
      "outputs": [
        {
          "output_type": "execute_result",
          "data": {
            "text/plain": [
              "1300"
            ]
          },
          "metadata": {},
          "execution_count": 9
        }
      ]
    },
    {
      "cell_type": "code",
      "source": [
        "menor_lucro([10300,15000,11400,14900])"
      ],
      "metadata": {
        "colab": {
          "base_uri": "https://localhost:8080/"
        },
        "id": "FpXbWRZRk_8T",
        "outputId": "00dfcd66-8b7d-444a-8841-d8a625605c4e"
      },
      "execution_count": null,
      "outputs": [
        {
          "output_type": "execute_result",
          "data": {
            "text/plain": [
              "10300"
            ]
          },
          "metadata": {},
          "execution_count": 10
        }
      ]
    }
  ]
}